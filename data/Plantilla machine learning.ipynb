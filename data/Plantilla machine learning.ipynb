{
 "cells": [
  {
   "cell_type": "markdown",
   "id": "bf6567fd",
   "metadata": {},
   "source": [
    "# PLANTILLA prophet"
   ]
  },
  {
   "cell_type": "code",
   "execution_count": null,
   "id": "700639f4",
   "metadata": {},
   "outputs": [],
   "source": [
    "import pandas as pd\n",
    "\n",
    "import numpy as np\n",
    "\n",
    "import matplotlib.pyplot as plt"
   ]
  },
  {
   "cell_type": "code",
   "execution_count": null,
   "id": "c0faac90",
   "metadata": {},
   "outputs": [],
   "source": [
    "#%pip install prophet\n",
    "from prophet import Prophet\n",
    "\n",
    "\n",
    "from datetime import datetime, timezone"
   ]
  },
  {
   "cell_type": "code",
   "execution_count": null,
   "id": "c9e0068b",
   "metadata": {},
   "outputs": [],
   "source": [
    "surf_proyect1 = surf_proyect[['time', 'altura_del_oleaje']]\n",
    "surf_proyect1.tail()"
   ]
  },
  {
   "cell_type": "code",
   "execution_count": null,
   "id": "12910a63",
   "metadata": {},
   "outputs": [],
   "source": [
    "surf_proyect2 = surf_proyect1.rename({'time': 'ds', 'altura_del_oleaje': 'y'},  axis=1)\n",
    "surf_proyect2.head()"
   ]
  },
  {
   "cell_type": "code",
   "execution_count": null,
   "id": "1bfaab70",
   "metadata": {},
   "outputs": [],
   "source": [
    "m = Prophet(interval_width = 0.95, daily_seasonality = True)\n",
    "\n",
    "model = m.fit(surf_proyect2)"
   ]
  },
  {
   "cell_type": "code",
   "execution_count": null,
   "id": "9e00381d",
   "metadata": {},
   "outputs": [],
   "source": [
    "future = m.make_future_dataframe(periods = 200, freq = 'H')\n",
    "forecast = m.predict(future)\n",
    "forecast.head()"
   ]
  },
  {
   "cell_type": "code",
   "execution_count": null,
   "id": "3ee1c216",
   "metadata": {},
   "outputs": [],
   "source": [
    "prediccion_periodo_olas = forecast[['ds', 'yhat']]\n",
    "prediccion_periodo_olas"
   ]
  },
  {
   "cell_type": "markdown",
   "id": "73b4a3cf",
   "metadata": {},
   "source": [
    "plot1 = m.plot(forecast)"
   ]
  },
  {
   "cell_type": "code",
   "execution_count": null,
   "id": "1ef09e63",
   "metadata": {},
   "outputs": [],
   "source": [
    "plot2 = m.plot_components(forecast)"
   ]
  },
  {
   "cell_type": "code",
   "execution_count": null,
   "id": "27fc320b",
   "metadata": {},
   "outputs": [],
   "source": []
  },
  {
   "cell_type": "code",
   "execution_count": null,
   "id": "dc0aa94c",
   "metadata": {},
   "outputs": [],
   "source": []
  },
  {
   "cell_type": "code",
   "execution_count": null,
   "id": "ef9fc2ef",
   "metadata": {},
   "outputs": [],
   "source": []
  }
 ],
 "metadata": {
  "kernelspec": {
   "display_name": "Python 3 (ipykernel)",
   "language": "python",
   "name": "python3"
  },
  "language_info": {
   "codemirror_mode": {
    "name": "ipython",
    "version": 3
   },
   "file_extension": ".py",
   "mimetype": "text/x-python",
   "name": "python",
   "nbconvert_exporter": "python",
   "pygments_lexer": "ipython3",
   "version": "3.9.13"
  }
 },
 "nbformat": 4,
 "nbformat_minor": 5
}
